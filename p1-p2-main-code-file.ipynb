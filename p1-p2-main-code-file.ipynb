{
 "cells": [
  {
   "cell_type": "code",
   "execution_count": 1,
   "id": "d4ef76b0",
   "metadata": {},
   "outputs": [
    {
     "data": {
      "application/vnd.jupyter.widget-view+json": {
       "model_id": "f977dd44cf7f4fcdb3110efe2cab67d4",
       "version_major": 2,
       "version_minor": 0
      },
      "text/plain": [
       "tokenizer_config.json:   0%|          | 0.00/2.54k [00:00<?, ?B/s]"
      ]
     },
     "metadata": {},
     "output_type": "display_data"
    },
    {
     "data": {
      "application/vnd.jupyter.widget-view+json": {
       "model_id": "e9c84c74f3f64009992d060c1b73b621",
       "version_major": 2,
       "version_minor": 0
      },
      "text/plain": [
       "spiece.model:   0%|          | 0.00/792k [00:00<?, ?B/s]"
      ]
     },
     "metadata": {},
     "output_type": "display_data"
    },
    {
     "data": {
      "application/vnd.jupyter.widget-view+json": {
       "model_id": "080e75f2dd8a435ba7100bed88c43715",
       "version_major": 2,
       "version_minor": 0
      },
      "text/plain": [
       "special_tokens_map.json:   0%|          | 0.00/2.20k [00:00<?, ?B/s]"
      ]
     },
     "metadata": {},
     "output_type": "display_data"
    },
    {
     "data": {
      "application/vnd.jupyter.widget-view+json": {
       "model_id": "81c9b57b071a4e2f96d87d50f75b3299",
       "version_major": 2,
       "version_minor": 0
      },
      "text/plain": [
       "tokenizer.json:   0%|          | 0.00/2.42M [00:00<?, ?B/s]"
      ]
     },
     "metadata": {},
     "output_type": "display_data"
    },
    {
     "name": "stderr",
     "output_type": "stream",
     "text": [
      "You are using the default legacy behaviour of the <class 'transformers.models.t5.tokenization_t5.T5Tokenizer'>. This is expected, and simply means that the `legacy` (previous) behavior will be used so nothing changes for you. If you want to use the new behaviour, set `legacy=False`. This should only be set if you understand what it means, and thoroughly read the reason why this was added as explained in https://github.com/huggingface/transformers/pull/24565\n"
     ]
    },
    {
     "data": {
      "application/vnd.jupyter.widget-view+json": {
       "model_id": "7600fda142084b4489e0c78d1a6d06b9",
       "version_major": 2,
       "version_minor": 0
      },
      "text/plain": [
       "config.json:   0%|          | 0.00/662 [00:00<?, ?B/s]"
      ]
     },
     "metadata": {},
     "output_type": "display_data"
    },
    {
     "data": {
      "application/vnd.jupyter.widget-view+json": {
       "model_id": "144e585887164cc6aa148c7a51a32696",
       "version_major": 2,
       "version_minor": 0
      },
      "text/plain": [
       "model.safetensors:   0%|          | 0.00/3.13G [00:00<?, ?B/s]"
      ]
     },
     "metadata": {},
     "output_type": "display_data"
    },
    {
     "data": {
      "application/vnd.jupyter.widget-view+json": {
       "model_id": "fb2119f330ba472bb693b99d83dd2fcb",
       "version_major": 2,
       "version_minor": 0
      },
      "text/plain": [
       "generation_config.json:   0%|          | 0.00/147 [00:00<?, ?B/s]"
      ]
     },
     "metadata": {},
     "output_type": "display_data"
    }
   ],
   "source": [
    "from transformers import T5Tokenizer, T5ForConditionalGeneration\n",
    "tokenizer = T5Tokenizer.from_pretrained(\"google/flan-t5-large\")\n",
    "\n",
    "model = T5ForConditionalGeneration.from_pretrained(\"google/flan-t5-large\")"
   ]
  },
  {
   "cell_type": "code",
   "execution_count": 7,
   "id": "cab16bdb",
   "metadata": {},
   "outputs": [
    {
     "name": "stdout",
     "output_type": "stream",
     "text": [
      "<pad> Wie alte sind Sie?</s>\n"
     ]
    }
   ],
   "source": [
    "input_text = \"translate English to German: How old are you?\"\n",
    "input_ids = tokenizer(input_text, return_tensors=\"pt\").input_ids\n",
    "outputs = model.generate(input_ids)\n",
    "print(tokenizer.decode(outputs[0]))"
   ]
  },
  {
   "cell_type": "code",
   "execution_count": 10,
   "id": "9f35c3de",
   "metadata": {},
   "outputs": [],
   "source": [
    "import json\n",
    "\n",
    "data = []\n",
    "with open(\"TimeTravel/dev_data.json\", \"r\") as file:\n",
    "    for line in file:\n",
    "        data.append(json.loads(line.strip()))"
   ]
  },
  {
   "cell_type": "code",
   "execution_count": 11,
   "id": "239de34c",
   "metadata": {},
   "outputs": [
    {
     "name": "stdout",
     "output_type": "stream",
     "text": [
      "--- Story 1 ---\n",
      "Premise: Ryan was called by his friend to skip work one day.\n",
      "Initial: He missed his train to work and instead went to the park.\n",
      "Counterfactual: But Ryan had an important project at work and went in to finish it.\n",
      "Original Ending: Ryan and his friend played with birds at the park all day. At the end of the day, they left the park and saw Ryan's boss. Ryan got fired.\n",
      "Edited Endings:\n",
      "  Edited Ending 1: ['After he finished it Ryan and his friend played with birds at the park the rest of the day.', \"At the end of the day, they left the park and saw Ryan's boss.\", \"Ryan's boss congratulated him on the great work he did on the project.\"]\n",
      "  Edited Ending 2: [\"Ryan's friend played with birds at the park all day.\", \"At the end of the day, Ryan's friend left the park and saw Ryan's boss.\", 'Ryan was glad he went to work.']\n",
      "  Edited Ending 3: ['Ryan and his friend fell out about it.', \"At the end of the day, Ryan told his friend's boss.\", 'His friend got fired.']\n",
      "\n",
      "\n",
      "--- Story 2 ---\n",
      "Premise: Neil had been journeying through Asia.\n",
      "Initial: Now he had worked his way south into Australia.\n",
      "Counterfactual: But he contracted malaria on a Thai island, and had to be flown home for treatment.\n",
      "Original Ending: Neil was so excited to see Australian culture. He was thrilled at the prospect of exotic animals and people! His favorite moment was when he got to feed a baby koala bear.\n",
      "Edited Endings:\n",
      "  Edited Ending 1: ['Neil was upset that he would experience the Thai island culture.', 'He had been thrilled at the prospect of exotic animals and people.', 'He was hoping he would be able to feed exotic animals.']\n",
      "  Edited Ending 2: ['Neil was so disappointed not to see Australian culture.', 'He was saddened that he would miss out on seeing the exotic animals and people!', 'His least favorite moment was leaving Asia to fly back home.']\n",
      "  Edited Ending 3: ['Neil was upset about his trip to Asia.', 'He had been looking forward to seeing exotic animals and people.', 'He would have loved to feed an exotic animal.']\n",
      "\n",
      "\n"
     ]
    }
   ],
   "source": [
    "selected_stories = data[:2]\n",
    "\n",
    "for i, story in enumerate(selected_stories, start=1):\n",
    "    print(f\"--- Story {i} ---\")\n",
    "    print(f\"Premise: {story['premise']}\")\n",
    "    print(f\"Initial: {story['initial']}\")\n",
    "    print(f\"Counterfactual: {story['counterfactual']}\")\n",
    "    print(f\"Original Ending: {story['original_ending']}\")\n",
    "    print(\"Edited Endings:\")\n",
    "    for j, edited in enumerate(story['edited_endings'], start=1):\n",
    "        print(f\"  Edited Ending {j}: {edited}\")\n",
    "    print(\"\\n\")"
   ]
  },
  {
   "cell_type": "code",
   "execution_count": 22,
   "id": "963c19cc",
   "metadata": {},
   "outputs": [],
   "source": [
    "def generate_edited_ending(story, prompt_type):\n",
    "    if prompt_type == 1:\n",
    "        prompt = f\"\"\"Given the following story, rewrite the ending based on the Counterfactual.\n",
    "        Premise: {story['premise']}\n",
    "        Initial sentence: {story['initial']}\n",
    "        Counterfactual: {story['counterfactual']}\n",
    "\n",
    "        Please rewrite the ending to align with the Counterfactual.\"\"\"\n",
    "        \n",
    "    elif prompt_type == 2:\n",
    "        prompt = f\"\"\"Rewrite the ending of this story to match the change:\n",
    "        Premise: {story['premise']}\n",
    "        Initial: {story['initial']}\n",
    "        Counterfactual: {story['counterfactual']}\n",
    "        Original Ending: {story['original_ending']}\n",
    "\n",
    "        Provide a new ending to match the Counterfactual.\"\"\"\n",
    "\n",
    "    input_ids = tokenizer(prompt, return_tensors=\"pt\").input_ids\n",
    "\n",
    "    outputs = model.generate(input_ids, max_length=150, num_beams=5)\n",
    "    return tokenizer.decode(outputs[0], skip_special_tokens=True)"
   ]
  },
  {
   "cell_type": "code",
   "execution_count": 23,
   "id": "ad53dadf",
   "metadata": {},
   "outputs": [
    {
     "name": "stdout",
     "output_type": "stream",
     "text": [
      "--- Story 1 ---\n",
      "Prompt 1 Edited Ending: He missed his train to work and instead went to the park.\n",
      "\n",
      "Prompt 2 Edited Ending: Ryan and his friend played with birds at the park all day. At the end of the day, they left the park and saw Ryan's boss. Ryan got fired.\n",
      "\n",
      "--- Story 2 ---\n",
      "Prompt 1 Edited Ending: Now he had worked his way south into Australia.\n",
      "\n",
      "Prompt 2 Edited Ending: Neil was so excited to see Australian culture. He was thrilled at the prospect of exotic animals and people! His favorite moment was when he got to feed a baby koala bear.\n",
      "\n"
     ]
    }
   ],
   "source": [
    "for i, story in enumerate(selected_stories, start=1):\n",
    "    print(f\"--- Story {i} ---\")\n",
    "    print(f\"Prompt 1 Edited Ending: {generate_edited_ending(story, prompt_type=1)}\\n\")\n",
    "    print(f\"Prompt 2 Edited Ending: {generate_edited_ending(story, prompt_type=2)}\\n\")"
   ]
  },
  {
   "cell_type": "code",
   "execution_count": 24,
   "id": "b6b18031",
   "metadata": {},
   "outputs": [],
   "source": [
    "from nltk.translate.bleu_score import sentence_bleu, SmoothingFunction"
   ]
  },
  {
   "cell_type": "code",
   "execution_count": 25,
   "id": "1ca87311",
   "metadata": {},
   "outputs": [],
   "source": [
    "story_1_references = [\n",
    "    ['After he finished it Ryan and his friend played with birds at the park the rest of the day.',\n",
    "     \"At the end of the day, they left the park and saw Ryan's boss.\",\n",
    "     \"Ryan's boss congratulated him on the great work he did on the project.\"],\n",
    "    [\"Ryan's friend played with birds at the park all day.\",\n",
    "     \"At the end of the day, Ryan's friend left the park and saw Ryan's boss.\",\n",
    "     'Ryan was glad he went to work.'],\n",
    "    ['Ryan and his friend fell out about it.',\n",
    "     \"At the end of the day, Ryan told his friend's boss.\",\n",
    "     'His friend got fired.']\n",
    "]\n",
    "\n",
    "story_1_prompt_1_hypothesis = [\"He missed his train to work and instead went to the park.\"]\n",
    "story_1_prompt_2_hypothesis = [\n",
    "    \"Ryan and his friend played with birds at the park all day.\",\n",
    "    \"At the end of the day, they left the park and saw Ryan's boss.\",\n",
    "    \"Ryan got fired.\"\n",
    "]\n",
    "\n",
    "story_2_references = [\n",
    "    ['Neil was upset that he would experience the Thai island culture.',\n",
    "     'He had been thrilled at the prospect of exotic animals and people.',\n",
    "     'He was hoping he would be able to feed exotic animals.'],\n",
    "    ['Neil was so disappointed not to see Australian culture.',\n",
    "     'He was saddened that he would miss out on seeing the exotic animals and people!',\n",
    "     'His least favorite moment was leaving Asia to fly back home.'],\n",
    "    ['Neil was upset about his trip to Asia.',\n",
    "     'He had been looking forward to seeing exotic animals and people.',\n",
    "     'He would have loved to feed an exotic animal.']\n",
    "]\n",
    "\n",
    "story_2_prompt_1_hypothesis = [\"Now he had worked his way south into Australia.\"]\n",
    "story_2_prompt_2_hypothesis = [\n",
    "    \"Neil was so excited to see Australian culture.\",\n",
    "    \"He was thrilled at the prospect of exotic animals and people!\",\n",
    "    \"His favorite moment was when he got to feed a baby koala bear.\"\n",
    "]"
   ]
  },
  {
   "cell_type": "code",
   "execution_count": 26,
   "id": "21e4359d",
   "metadata": {},
   "outputs": [],
   "source": [
    "def calculate_bleu_score(references, hypothesis):\n",
    "    smoothing_fn = SmoothingFunction().method1  # Apply smoothing\n",
    "    return sentence_bleu(references, hypothesis, smoothing_function=smoothing_fn)"
   ]
  },
  {
   "cell_type": "code",
   "execution_count": 27,
   "id": "36791b04",
   "metadata": {},
   "outputs": [],
   "source": [
    "story_1_prompt_1_bleu = calculate_bleu_score(story_1_references, story_1_prompt_1_hypothesis)\n",
    "story_1_prompt_2_bleu = calculate_bleu_score(story_1_references, story_1_prompt_2_hypothesis)\n",
    "story_2_prompt_1_bleu = calculate_bleu_score(story_2_references, story_2_prompt_1_hypothesis)\n",
    "story_2_prompt_2_bleu = calculate_bleu_score(story_2_references, story_2_prompt_2_hypothesis)"
   ]
  },
  {
   "cell_type": "code",
   "execution_count": 28,
   "id": "6596dd20",
   "metadata": {},
   "outputs": [
    {
     "name": "stdout",
     "output_type": "stream",
     "text": [
      "Story 1 Prompt 1 BLEU Score: 0.0000\n",
      "Story 1 Prompt 2 BLEU Score: 0.1136\n",
      "Story 2 Prompt 1 BLEU Score: 0.0000\n",
      "Story 2 Prompt 2 BLEU Score: 0.0000\n"
     ]
    }
   ],
   "source": [
    "print(f\"Story 1 Prompt 1 BLEU Score: {story_1_prompt_1_bleu:.4f}\")\n",
    "print(f\"Story 1 Prompt 2 BLEU Score: {story_1_prompt_2_bleu:.4f}\")\n",
    "print(f\"Story 2 Prompt 1 BLEU Score: {story_2_prompt_1_bleu:.4f}\")\n",
    "print(f\"Story 2 Prompt 2 BLEU Score: {story_2_prompt_2_bleu:.4f}\")"
   ]
  }
 ],
 "metadata": {
  "kernelspec": {
   "display_name": "Python 3 (ipykernel)",
   "language": "python",
   "name": "python3"
  },
  "language_info": {
   "codemirror_mode": {
    "name": "ipython",
    "version": 3
   },
   "file_extension": ".py",
   "mimetype": "text/x-python",
   "name": "python",
   "nbconvert_exporter": "python",
   "pygments_lexer": "ipython3",
   "version": "3.11.3"
  }
 },
 "nbformat": 4,
 "nbformat_minor": 5
}
